{
 "cells": [
  {
   "cell_type": "markdown",
   "id": "d98c9cac",
   "metadata": {},
   "source": [
    "# Getting a response from FLAN-T5"
   ]
  },
  {
   "cell_type": "code",
   "execution_count": 25,
   "id": "8389bdc7",
   "metadata": {},
   "outputs": [
    {
     "name": "stdout",
     "output_type": "stream",
     "text": [
      "Cómo estás?\n"
     ]
    }
   ],
   "source": [
    "# Import necessary classes from the transformers library\n",
    "from transformers import AutoTokenizer, AutoModelForSeq2SeqLM\n",
    "\n",
    "# Define the model we want to use\n",
    "MODEL = \"google/flan-t5-base\"\n",
    "\n",
    "# Initialize the tokenizer using the from_pretrained method \n",
    "tokenizer = AutoTokenizer.from_pretrained(MODEL)\n",
    "\n",
    "# Initialize the model using the from_pretrained method\n",
    "model = AutoModelForSeq2SeqLM.from_pretrained(MODEL)\n",
    "\n",
    "# Define our prompt text\n",
    "prompt = \"Translate from English to Spanish: 'How are you?'\"\n",
    "\n",
    "# Encode our prompt text into tensor of integers representing the sequence of tokens\n",
    "inputs = tokenizer.encode(prompt, return_tensors='pt') \n",
    "\n",
    "# Generate the output sequence using the model\n",
    "outputs = model.generate(inputs, max_length=100) \n",
    "\n",
    "# Decode the output sequence into readable text\n",
    "generated_text = tokenizer.decode(outputs[0], skip_special_tokens=True)\n",
    "\n",
    "# Print the generated text\n",
    "print(generated_text)"
   ]
  },
  {
   "cell_type": "code",
   "execution_count": null,
   "id": "14e20846",
   "metadata": {},
   "outputs": [],
   "source": []
  }
 ],
 "metadata": {
  "kernelspec": {
   "display_name": "Python 3 (ipykernel)",
   "language": "python",
   "name": "python3"
  },
  "language_info": {
   "codemirror_mode": {
    "name": "ipython",
    "version": 3
   },
   "file_extension": ".py",
   "mimetype": "text/x-python",
   "name": "python",
   "nbconvert_exporter": "python",
   "pygments_lexer": "ipython3",
   "version": "3.10.11"
  }
 },
 "nbformat": 4,
 "nbformat_minor": 5
}
